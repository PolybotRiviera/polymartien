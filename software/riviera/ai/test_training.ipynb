{
 "cells": [
  {
   "cell_type": "code",
   "execution_count": 1,
   "metadata": {},
   "outputs": [
    {
     "name": "stdout",
     "output_type": "stream",
     "text": [
      "Defaulting to user installation because normal site-packages is not writeable\n",
      "Requirement already satisfied: tqdm in /home/ubuntu/.local/lib/python3.10/site-packages (4.66.2)\n",
      "Note: you may need to restart the kernel to use updated packages.\n",
      "Defaulting to user installation because normal site-packages is not writeable\n",
      "Requirement already satisfied: torch in /home/ubuntu/.local/lib/python3.10/site-packages (2.3.0)\n",
      "Requirement already satisfied: torchinfo in /home/ubuntu/.local/lib/python3.10/site-packages (1.8.0)\n",
      "Requirement already satisfied: torchvision in /home/ubuntu/.local/lib/python3.10/site-packages (0.18.0)\n",
      "Requirement already satisfied: typing-extensions>=4.8.0 in /home/ubuntu/.local/lib/python3.10/site-packages (from torch) (4.11.0)\n",
      "Requirement already satisfied: nvidia-curand-cu12==10.3.2.106 in /home/ubuntu/.local/lib/python3.10/site-packages (from torch) (10.3.2.106)\n",
      "Requirement already satisfied: nvidia-cublas-cu12==12.1.3.1 in /home/ubuntu/.local/lib/python3.10/site-packages (from torch) (12.1.3.1)\n",
      "Requirement already satisfied: nvidia-cusparse-cu12==12.1.0.106 in /home/ubuntu/.local/lib/python3.10/site-packages (from torch) (12.1.0.106)\n",
      "Requirement already satisfied: fsspec in /home/ubuntu/.local/lib/python3.10/site-packages (from torch) (2024.3.1)\n",
      "Requirement already satisfied: nvidia-cuda-nvrtc-cu12==12.1.105 in /home/ubuntu/.local/lib/python3.10/site-packages (from torch) (12.1.105)\n",
      "Requirement already satisfied: sympy in /home/ubuntu/.local/lib/python3.10/site-packages (from torch) (1.12)\n",
      "Requirement already satisfied: nvidia-cufft-cu12==11.0.2.54 in /home/ubuntu/.local/lib/python3.10/site-packages (from torch) (11.0.2.54)\n",
      "Requirement already satisfied: nvidia-cusolver-cu12==11.4.5.107 in /home/ubuntu/.local/lib/python3.10/site-packages (from torch) (11.4.5.107)\n",
      "Requirement already satisfied: nvidia-cuda-runtime-cu12==12.1.105 in /home/ubuntu/.local/lib/python3.10/site-packages (from torch) (12.1.105)\n",
      "Requirement already satisfied: nvidia-cudnn-cu12==8.9.2.26 in /home/ubuntu/.local/lib/python3.10/site-packages (from torch) (8.9.2.26)\n",
      "Requirement already satisfied: triton==2.3.0 in /home/ubuntu/.local/lib/python3.10/site-packages (from torch) (2.3.0)\n",
      "Requirement already satisfied: nvidia-nccl-cu12==2.20.5 in /home/ubuntu/.local/lib/python3.10/site-packages (from torch) (2.20.5)\n",
      "Requirement already satisfied: nvidia-cuda-cupti-cu12==12.1.105 in /home/ubuntu/.local/lib/python3.10/site-packages (from torch) (12.1.105)\n",
      "Requirement already satisfied: jinja2 in /usr/lib/python3/dist-packages (from torch) (3.0.3)\n",
      "Requirement already satisfied: filelock in /home/ubuntu/.local/lib/python3.10/site-packages (from torch) (3.14.0)\n",
      "Requirement already satisfied: nvidia-nvtx-cu12==12.1.105 in /home/ubuntu/.local/lib/python3.10/site-packages (from torch) (12.1.105)\n",
      "Requirement already satisfied: networkx in /home/ubuntu/.local/lib/python3.10/site-packages (from torch) (3.3)\n",
      "Requirement already satisfied: nvidia-nvjitlink-cu12 in /home/ubuntu/.local/lib/python3.10/site-packages (from nvidia-cusolver-cu12==11.4.5.107->torch) (12.4.127)\n",
      "Requirement already satisfied: numpy in /home/ubuntu/.local/lib/python3.10/site-packages (from torchvision) (1.26.4)\n",
      "Requirement already satisfied: pillow!=8.3.*,>=5.3.0 in /home/ubuntu/.local/lib/python3.10/site-packages (from torchvision) (10.3.0)\n",
      "Requirement already satisfied: mpmath>=0.19 in /home/ubuntu/.local/lib/python3.10/site-packages (from sympy->torch) (1.3.0)\n",
      "Note: you may need to restart the kernel to use updated packages.\n",
      "Defaulting to user installation because normal site-packages is not writeable\n",
      "Requirement already satisfied: pandas in /home/ubuntu/.local/lib/python3.10/site-packages (2.2.2)\n",
      "Requirement already satisfied: numpy>=1.22.4 in /home/ubuntu/.local/lib/python3.10/site-packages (from pandas) (1.26.4)\n",
      "Requirement already satisfied: tzdata>=2022.7 in /home/ubuntu/.local/lib/python3.10/site-packages (from pandas) (2024.1)\n",
      "Requirement already satisfied: python-dateutil>=2.8.2 in /home/ubuntu/.local/lib/python3.10/site-packages (from pandas) (2.9.0.post0)\n",
      "Requirement already satisfied: pytz>=2020.1 in /usr/lib/python3/dist-packages (from pandas) (2022.1)\n",
      "Requirement already satisfied: six>=1.5 in /usr/lib/python3/dist-packages (from python-dateutil>=2.8.2->pandas) (1.16.0)\n",
      "Note: you may need to restart the kernel to use updated packages.\n",
      "Defaulting to user installation because normal site-packages is not writeable\n",
      "Requirement already satisfied: imageio in /home/ubuntu/.local/lib/python3.10/site-packages (2.34.1)\n",
      "Requirement already satisfied: pillow>=8.3.2 in /home/ubuntu/.local/lib/python3.10/site-packages (from imageio) (10.3.0)\n",
      "Requirement already satisfied: numpy in /home/ubuntu/.local/lib/python3.10/site-packages (from imageio) (1.26.4)\n",
      "Note: you may need to restart the kernel to use updated packages.\n",
      "Defaulting to user installation because normal site-packages is not writeable\n",
      "Requirement already satisfied: numpy in /home/ubuntu/.local/lib/python3.10/site-packages (1.26.4)\n",
      "Requirement already satisfied: matplotlib in /home/ubuntu/.local/lib/python3.10/site-packages (3.8.4)\n",
      "Requirement already satisfied: kiwisolver>=1.3.1 in /home/ubuntu/.local/lib/python3.10/site-packages (from matplotlib) (1.4.5)\n",
      "Requirement already satisfied: contourpy>=1.0.1 in /home/ubuntu/.local/lib/python3.10/site-packages (from matplotlib) (1.2.1)\n",
      "Requirement already satisfied: python-dateutil>=2.7 in /home/ubuntu/.local/lib/python3.10/site-packages (from matplotlib) (2.9.0.post0)\n",
      "Requirement already satisfied: fonttools>=4.22.0 in /home/ubuntu/.local/lib/python3.10/site-packages (from matplotlib) (4.51.0)\n",
      "Requirement already satisfied: pillow>=8 in /home/ubuntu/.local/lib/python3.10/site-packages (from matplotlib) (10.3.0)\n",
      "Requirement already satisfied: packaging>=20.0 in /home/ubuntu/.local/lib/python3.10/site-packages (from matplotlib) (24.0)\n",
      "Requirement already satisfied: pyparsing>=2.3.1 in /usr/lib/python3/dist-packages (from matplotlib) (2.4.7)\n",
      "Requirement already satisfied: cycler>=0.10 in /home/ubuntu/.local/lib/python3.10/site-packages (from matplotlib) (0.12.1)\n",
      "Requirement already satisfied: six>=1.5 in /usr/lib/python3/dist-packages (from python-dateutil>=2.7->matplotlib) (1.16.0)\n",
      "Note: you may need to restart the kernel to use updated packages.\n"
     ]
    }
   ],
   "source": [
    "%load_ext autoreload\n",
    "%autoreload 2\n",
    "%pip install tqdm\n",
    "%pip install torch torchinfo torchvision\n",
    "%pip install pandas\n",
    "%pip install imageio\n",
    "%pip install numpy matplotlib"
   ]
  },
  {
   "cell_type": "code",
   "execution_count": 2,
   "metadata": {},
   "outputs": [],
   "source": [
    "import torch\n",
    "from torch import nn\n",
    "from torchinfo import summary\n",
    "import torch.optim.lr_scheduler as lrs\n",
    "# torch.set_grad_enabled(True)\n",
    "\n",
    "import time\n",
    "\n",
    "import sys\n",
    "import os\n",
    "\n",
    "sys.path.append(os.path.abspath(os.path.dirname(os.getcwd())))\n",
    "\n",
    "\n",
    "from data_loader import plants_dataloader\n",
    "from model3 import PlantNet\n",
    "from train import train\n",
    "from generator import PlantLoss"
   ]
  },
  {
   "cell_type": "code",
   "execution_count": 3,
   "metadata": {},
   "outputs": [],
   "source": [
    "csv_file = r\"../data/images.1000.csv\"\n",
    "csv_eval = r\"../data/images.200.csv\""
   ]
  },
  {
   "cell_type": "code",
   "execution_count": 4,
   "metadata": {},
   "outputs": [],
   "source": [
    "BASE_EPOCHS = 50\n",
    "RESET = False"
   ]
  },
  {
   "cell_type": "code",
   "execution_count": 5,
   "metadata": {},
   "outputs": [
    {
     "name": "stdout",
     "output_type": "stream",
     "text": [
      "(tensor([[[[  0.,   0.,   0.,  ..., 199., 199., 199.],\n",
      "          [  0.,   0.,   0.,  ..., 199., 199., 199.],\n",
      "          [  0.,   0.,   0.,  ..., 199., 199., 199.],\n",
      "          ...,\n",
      "          [  0.,   0.,   0.,  ..., 168., 168., 166.],\n",
      "          [  0.,   0.,   0.,  ..., 168., 169., 167.],\n",
      "          [  0.,   0.,   0.,  ..., 101., 108., 110.]],\n",
      "\n",
      "         [[  0.,   0.,   0.,  ..., 237., 237., 237.],\n",
      "          [  0.,   0.,   0.,  ..., 238., 238., 238.],\n",
      "          [  0.,   0.,   0.,  ..., 237., 237., 237.],\n",
      "          ...,\n",
      "          [  0.,   0.,   0.,  ..., 228., 229., 228.],\n",
      "          [  0.,   0.,   0.,  ..., 229., 230., 229.],\n",
      "          [  0.,   0.,   0.,  ..., 162., 172., 177.]],\n",
      "\n",
      "         [[  0.,   0.,   0.,  ..., 253., 253., 253.],\n",
      "          [  0.,   0.,   0.,  ..., 253., 253., 253.],\n",
      "          [  0.,   0.,   0.,  ..., 253., 253., 253.],\n",
      "          ...,\n",
      "          [  0.,   0.,   0.,  ..., 252., 253., 252.],\n",
      "          [  0.,   0.,   0.,  ..., 253., 253., 252.],\n",
      "          [  0.,   0.,   0.,  ..., 218., 226., 229.]]],\n",
      "\n",
      "\n",
      "        [[[  0.,   0.,   0.,  ...,  56.,  56.,  56.],\n",
      "          [  0.,   0.,   0.,  ...,  56.,  56.,  56.],\n",
      "          [  0.,   0.,   0.,  ...,  56.,  56.,  56.],\n",
      "          ...,\n",
      "          [  0.,   0.,   0.,  ..., 228., 229., 229.],\n",
      "          [  0.,   0.,   0.,  ..., 228., 229., 228.],\n",
      "          [  0.,   0.,   0.,  ..., 153., 164., 165.]],\n",
      "\n",
      "         [[  0.,   0.,   0.,  ...,  60.,  60.,  59.],\n",
      "          [  0.,   0.,   0.,  ...,  60.,  60.,  60.],\n",
      "          [  0.,   0.,   0.,  ...,  60.,  62.,  61.],\n",
      "          ...,\n",
      "          [  0.,   0.,   0.,  ..., 235., 235., 235.],\n",
      "          [  0.,   0.,   0.,  ..., 235., 235., 235.],\n",
      "          [  0.,   0.,   0.,  ..., 166., 176., 177.]],\n",
      "\n",
      "         [[  0.,   0.,   0.,  ...,  47.,  45.,  45.],\n",
      "          [  0.,   0.,   0.,  ...,  46.,  46.,  46.],\n",
      "          [  0.,   0.,   0.,  ...,  46.,  48.,  47.],\n",
      "          ...,\n",
      "          [  0.,   0.,   0.,  ..., 237., 238., 238.],\n",
      "          [  0.,   0.,   0.,  ..., 237., 237., 237.],\n",
      "          [  0.,   0.,   0.,  ..., 170., 181., 182.]]],\n",
      "\n",
      "\n",
      "        [[[  0.,   0.,   0.,  ..., 241., 219., 173.],\n",
      "          [  0.,   0.,   0.,  ..., 233., 204., 171.],\n",
      "          [  0.,   0.,   0.,  ..., 214., 178., 170.],\n",
      "          ...,\n",
      "          [  0.,   0.,   0.,  ..., 199., 199., 199.],\n",
      "          [  0.,   0.,   0.,  ..., 200., 201., 200.],\n",
      "          [  0.,   0.,   0.,  ..., 125., 136., 135.]],\n",
      "\n",
      "         [[  0.,   0.,   0.,  ..., 251., 242., 226.],\n",
      "          [  0.,   0.,   0.,  ..., 247., 237., 226.],\n",
      "          [  0.,   0.,   0.,  ..., 240., 228., 226.],\n",
      "          ...,\n",
      "          [  0.,   0.,   0.,  ..., 231., 231., 231.],\n",
      "          [  0.,   0.,   0.,  ..., 232., 232., 231.],\n",
      "          [  0.,   0.,   0.,  ..., 166., 178., 176.]],\n",
      "\n",
      "         [[  0.,   0.,   0.,  ..., 252., 252., 251.],\n",
      "          [  0.,   0.,   0.,  ..., 252., 252., 252.],\n",
      "          [  0.,   0.,   0.,  ..., 252., 251., 252.],\n",
      "          ...,\n",
      "          [  0.,   0.,   0.,  ..., 251., 251., 251.],\n",
      "          [  0.,   0.,   0.,  ..., 252., 252., 251.],\n",
      "          [  0.,   0.,   0.,  ..., 215., 223., 222.]]],\n",
      "\n",
      "\n",
      "        [[[  0.,   0.,   0.,  ..., 199., 200., 200.],\n",
      "          [  0.,   0.,   0.,  ..., 199., 200., 200.],\n",
      "          [  0.,   0.,   0.,  ..., 199., 199., 200.],\n",
      "          ...,\n",
      "          [  0.,   0.,   0.,  ...,  27.,  28.,  28.],\n",
      "          [  0.,   0.,   0.,  ...,  27.,  28.,  28.],\n",
      "          [  0.,   0.,   0.,  ...,  14.,  17.,  19.]],\n",
      "\n",
      "         [[  0.,   0.,   0.,  ..., 158., 159., 159.],\n",
      "          [  0.,   0.,   0.,  ..., 157., 158., 159.],\n",
      "          [  0.,   0.,   0.,  ..., 156., 156., 158.],\n",
      "          ...,\n",
      "          [  0.,   0.,   0.,  ...,  32.,  33.,  33.],\n",
      "          [  0.,   0.,   0.,  ...,  32.,  33.,  33.],\n",
      "          [  0.,   0.,   0.,  ...,  17.,  20.,  22.]],\n",
      "\n",
      "         [[  0.,   0.,   0.,  ..., 164., 165., 166.],\n",
      "          [  0.,   0.,   0.,  ..., 164., 165., 166.],\n",
      "          [  0.,   0.,   0.,  ..., 162., 162., 165.],\n",
      "          ...,\n",
      "          [  0.,   0.,   0.,  ...,  22.,  22.,  22.],\n",
      "          [  0.,   0.,   0.,  ...,  22.,  22.,  22.],\n",
      "          [  0.,   0.,   0.,  ...,  11.,  13.,  15.]]]], device='cuda:0'), tensor([[ 9.3706e+02,  4.9262e-01],\n",
      "        [ 1.3809e+03,  1.2630e+00],\n",
      "        [ 1.4346e+03,  9.0095e-01],\n",
      "        [ 1.5335e+03,  7.6476e-01],\n",
      "        [ 8.3634e+02, -1.4625e-01],\n",
      "        [ 1.5790e+03,  1.2383e+00],\n",
      "        [ 2.9467e+02,  2.1105e+00],\n",
      "        [ 1.0685e+03, -1.3784e+00],\n",
      "        [ 1.2130e+03, -9.4170e-01],\n",
      "        [ 1.5558e+03,  1.1776e+00],\n",
      "        [ 5.5022e+02, -1.2133e+00],\n",
      "        [ 1.0114e+03,  6.7583e-01],\n",
      "        [ 1.3566e+03, -1.0638e+00],\n",
      "        [ 7.6518e+02, -1.2883e+00],\n",
      "        [ 8.4992e+02, -2.4424e+00],\n",
      "        [ 8.4096e+02, -2.4801e+00],\n",
      "        [ 1.4068e+03, -1.4047e+00],\n",
      "        [ 1.0630e+03,  9.0052e-01],\n",
      "        [ 6.2549e+02, -3.3494e-02],\n",
      "        [ 2.3268e+02, -7.9517e-01],\n",
      "        [ 1.5573e+03,  5.1408e-01],\n",
      "        [ 8.4968e+02,  6.6786e-01],\n",
      "        [ 5.3259e+02, -4.9854e-01],\n",
      "        [ 5.3215e+02, -3.3342e+00],\n",
      "        [ 1.3002e+03, -9.0296e-02],\n",
      "        [ 6.7940e+02, -9.3934e-02],\n",
      "        [ 6.8648e+02, -1.3425e-01],\n",
      "        [ 9.9527e+02, -1.5483e+00],\n",
      "        [ 6.3133e+02, -1.0926e-03],\n",
      "        [ 1.0587e+03, -9.0587e-01],\n",
      "        [ 1.5795e+03,  9.1172e-01],\n",
      "        [ 6.1631e+02, -1.7346e+00],\n",
      "        [ 9.6428e+02,  1.3923e+00],\n",
      "        [ 1.1198e+03, -1.1001e+00],\n",
      "        [ 7.7201e+02, -2.3157e+00],\n",
      "        [ 7.5925e+02, -1.9971e+00],\n",
      "        [ 0.0000e+00,  0.0000e+00],\n",
      "        [ 0.0000e+00,  0.0000e+00],\n",
      "        [ 0.0000e+00,  0.0000e+00],\n",
      "        [ 0.0000e+00,  0.0000e+00],\n",
      "        [ 0.0000e+00,  0.0000e+00],\n",
      "        [ 0.0000e+00,  0.0000e+00],\n",
      "        [ 0.0000e+00,  0.0000e+00],\n",
      "        [ 0.0000e+00,  0.0000e+00],\n",
      "        [ 0.0000e+00,  0.0000e+00],\n",
      "        [ 0.0000e+00,  0.0000e+00],\n",
      "        [ 0.0000e+00,  0.0000e+00],\n",
      "        [ 0.0000e+00,  0.0000e+00],\n",
      "        [ 0.0000e+00,  0.0000e+00],\n",
      "        [ 0.0000e+00,  0.0000e+00],\n",
      "        [ 0.0000e+00,  0.0000e+00],\n",
      "        [ 0.0000e+00,  0.0000e+00],\n",
      "        [ 0.0000e+00,  0.0000e+00],\n",
      "        [ 0.0000e+00,  0.0000e+00],\n",
      "        [ 0.0000e+00,  0.0000e+00],\n",
      "        [ 0.0000e+00,  0.0000e+00],\n",
      "        [ 0.0000e+00,  0.0000e+00],\n",
      "        [ 0.0000e+00,  0.0000e+00],\n",
      "        [ 0.0000e+00,  0.0000e+00],\n",
      "        [ 0.0000e+00,  0.0000e+00],\n",
      "        [ 0.0000e+00,  0.0000e+00],\n",
      "        [ 0.0000e+00,  0.0000e+00],\n",
      "        [ 0.0000e+00,  0.0000e+00],\n",
      "        [ 0.0000e+00,  0.0000e+00],\n",
      "        [ 0.0000e+00,  0.0000e+00],\n",
      "        [ 0.0000e+00,  0.0000e+00],\n",
      "        [ 0.0000e+00,  0.0000e+00],\n",
      "        [ 0.0000e+00,  0.0000e+00],\n",
      "        [ 0.0000e+00,  0.0000e+00],\n",
      "        [ 0.0000e+00,  0.0000e+00],\n",
      "        [ 0.0000e+00,  0.0000e+00],\n",
      "        [ 0.0000e+00,  0.0000e+00],\n",
      "        [ 0.0000e+00,  0.0000e+00],\n",
      "        [ 0.0000e+00,  0.0000e+00],\n",
      "        [ 0.0000e+00,  0.0000e+00],\n",
      "        [ 0.0000e+00,  0.0000e+00],\n",
      "        [ 0.0000e+00,  0.0000e+00],\n",
      "        [ 0.0000e+00,  0.0000e+00],\n",
      "        [ 0.0000e+00,  0.0000e+00],\n",
      "        [ 0.0000e+00,  0.0000e+00],\n",
      "        [ 0.0000e+00,  0.0000e+00],\n",
      "        [ 0.0000e+00,  0.0000e+00],\n",
      "        [ 0.0000e+00,  0.0000e+00],\n",
      "        [ 0.0000e+00,  0.0000e+00],\n",
      "        [ 0.0000e+00,  0.0000e+00],\n",
      "        [ 0.0000e+00,  0.0000e+00],\n",
      "        [ 0.0000e+00,  0.0000e+00],\n",
      "        [ 0.0000e+00,  0.0000e+00],\n",
      "        [ 0.0000e+00,  0.0000e+00],\n",
      "        [ 0.0000e+00,  0.0000e+00],\n",
      "        [ 0.0000e+00,  0.0000e+00],\n",
      "        [ 0.0000e+00,  0.0000e+00],\n",
      "        [ 0.0000e+00,  0.0000e+00],\n",
      "        [ 0.0000e+00,  0.0000e+00],\n",
      "        [ 0.0000e+00,  0.0000e+00],\n",
      "        [ 0.0000e+00,  0.0000e+00],\n",
      "        [ 0.0000e+00,  0.0000e+00],\n",
      "        [ 0.0000e+00,  0.0000e+00],\n",
      "        [ 0.0000e+00,  0.0000e+00],\n",
      "        [ 0.0000e+00,  0.0000e+00],\n",
      "        [ 0.0000e+00,  0.0000e+00],\n",
      "        [ 0.0000e+00,  0.0000e+00],\n",
      "        [ 0.0000e+00,  0.0000e+00],\n",
      "        [ 0.0000e+00,  0.0000e+00],\n",
      "        [ 0.0000e+00,  0.0000e+00],\n",
      "        [ 0.0000e+00,  0.0000e+00],\n",
      "        [ 0.0000e+00,  0.0000e+00],\n",
      "        [ 0.0000e+00,  0.0000e+00],\n",
      "        [ 0.0000e+00,  0.0000e+00],\n",
      "        [ 0.0000e+00,  0.0000e+00],\n",
      "        [ 0.0000e+00,  0.0000e+00],\n",
      "        [ 0.0000e+00,  0.0000e+00],\n",
      "        [ 0.0000e+00,  0.0000e+00],\n",
      "        [ 0.0000e+00,  0.0000e+00],\n",
      "        [ 0.0000e+00,  0.0000e+00],\n",
      "        [ 0.0000e+00,  0.0000e+00],\n",
      "        [ 0.0000e+00,  0.0000e+00],\n",
      "        [ 0.0000e+00,  0.0000e+00],\n",
      "        [ 0.0000e+00,  0.0000e+00],\n",
      "        [ 0.0000e+00,  0.0000e+00],\n",
      "        [ 0.0000e+00,  0.0000e+00],\n",
      "        [ 0.0000e+00,  0.0000e+00],\n",
      "        [ 0.0000e+00,  0.0000e+00],\n",
      "        [ 0.0000e+00,  0.0000e+00],\n",
      "        [ 0.0000e+00,  0.0000e+00],\n",
      "        [ 0.0000e+00,  0.0000e+00],\n",
      "        [ 0.0000e+00,  0.0000e+00],\n",
      "        [ 0.0000e+00,  0.0000e+00],\n",
      "        [ 0.0000e+00,  0.0000e+00],\n",
      "        [ 0.0000e+00,  0.0000e+00],\n",
      "        [ 0.0000e+00,  0.0000e+00],\n",
      "        [ 0.0000e+00,  0.0000e+00],\n",
      "        [ 0.0000e+00,  0.0000e+00],\n",
      "        [ 0.0000e+00,  0.0000e+00],\n",
      "        [ 0.0000e+00,  0.0000e+00],\n",
      "        [ 0.0000e+00,  0.0000e+00],\n",
      "        [ 0.0000e+00,  0.0000e+00],\n",
      "        [ 0.0000e+00,  0.0000e+00],\n",
      "        [ 0.0000e+00,  0.0000e+00],\n",
      "        [ 0.0000e+00,  0.0000e+00],\n",
      "        [ 0.0000e+00,  0.0000e+00],\n",
      "        [ 0.0000e+00,  0.0000e+00],\n",
      "        [ 0.0000e+00,  0.0000e+00],\n",
      "        [ 0.0000e+00,  0.0000e+00],\n",
      "        [ 0.0000e+00,  0.0000e+00],\n",
      "        [ 0.0000e+00,  0.0000e+00],\n",
      "        [ 0.0000e+00,  0.0000e+00],\n",
      "        [ 0.0000e+00,  0.0000e+00],\n",
      "        [ 0.0000e+00,  0.0000e+00],\n",
      "        [ 0.0000e+00,  0.0000e+00],\n",
      "        [ 0.0000e+00,  0.0000e+00],\n",
      "        [ 0.0000e+00,  0.0000e+00],\n",
      "        [ 0.0000e+00,  0.0000e+00],\n",
      "        [ 0.0000e+00,  0.0000e+00],\n",
      "        [ 0.0000e+00,  0.0000e+00],\n",
      "        [ 0.0000e+00,  0.0000e+00],\n",
      "        [ 0.0000e+00,  0.0000e+00],\n",
      "        [ 0.0000e+00,  0.0000e+00],\n",
      "        [ 0.0000e+00,  0.0000e+00],\n",
      "        [ 0.0000e+00,  0.0000e+00],\n",
      "        [ 0.0000e+00,  0.0000e+00],\n",
      "        [ 0.0000e+00,  0.0000e+00],\n",
      "        [ 0.0000e+00,  0.0000e+00],\n",
      "        [ 0.0000e+00,  0.0000e+00],\n",
      "        [ 0.0000e+00,  0.0000e+00],\n",
      "        [ 0.0000e+00,  0.0000e+00],\n",
      "        [ 0.0000e+00,  0.0000e+00],\n",
      "        [ 0.0000e+00,  0.0000e+00],\n",
      "        [ 0.0000e+00,  0.0000e+00],\n",
      "        [ 0.0000e+00,  0.0000e+00],\n",
      "        [ 0.0000e+00,  0.0000e+00],\n",
      "        [ 0.0000e+00,  0.0000e+00],\n",
      "        [ 0.0000e+00,  0.0000e+00],\n",
      "        [ 0.0000e+00,  0.0000e+00],\n",
      "        [ 0.0000e+00,  0.0000e+00],\n",
      "        [ 0.0000e+00,  0.0000e+00],\n",
      "        [ 0.0000e+00,  0.0000e+00],\n",
      "        [ 0.0000e+00,  0.0000e+00],\n",
      "        [ 0.0000e+00,  0.0000e+00],\n",
      "        [ 0.0000e+00,  0.0000e+00]], device='cuda:0'))\n"
     ]
    }
   ],
   "source": [
    "dl_train = plants_dataloader(csv_file, batch_size=6, device=\"cuda\")\n",
    "dl_test = plants_dataloader(csv_eval, batch_size=6, device=\"cuda\")\n",
    "\n",
    "print(dl_train.dataset[0])\n",
    "\n",
    "loss_fn = PlantLoss()\n",
    "loss_fn.zero_grad()"
   ]
  },
  {
   "cell_type": "code",
   "execution_count": 6,
   "metadata": {},
   "outputs": [],
   "source": [
    "list_activations = [\n",
    "    nn.ELU,\n",
    "    nn.Hardshrink,\n",
    "    nn.Hardsigmoid,\n",
    "    nn.Hardtanh,\n",
    "    nn.Hardswish,\n",
    "    nn.LeakyReLU,\n",
    "    nn.LogSigmoid,\n",
    "    nn.PReLU,\n",
    "    nn.ReLU,\n",
    "    nn.ReLU6,\n",
    "    nn.RReLU,\n",
    "    nn.SELU,\n",
    "    nn.CELU,\n",
    "    nn.GELU,\n",
    "    nn.Sigmoid,\n",
    "    nn.SiLU,\n",
    "    nn.Mish,\n",
    "    nn.Softplus,\n",
    "    nn.Softshrink,\n",
    "    nn.Softsign,\n",
    "    nn.Tanh,\n",
    "    nn.Tanhshrink,\n",
    "    nn.Softmin,\n",
    "    nn.Softmax,\n",
    "    nn.LogSoftmax,\n",
    "]\n",
    "\n",
    "\n",
    "import random\n",
    "\n",
    "random_act = lambda : random.choice(list_activations)()\n",
    "\n"
   ]
  },
  {
   "cell_type": "code",
   "execution_count": 7,
   "metadata": {},
   "outputs": [
    {
     "name": "stdout",
     "output_type": "stream",
     "text": [
      "==========================================================================================\n",
      "Layer (type:depth-idx)                   Output Shape              Param #\n",
      "==========================================================================================\n",
      "PlantNet                                 [36, 2]                   --\n",
      "├─Sequential: 1-1                        [1, 36, 320, 240]         --\n",
      "│    └─Conv2d: 2-1                       [1, 9, 640, 480]          6,084\n",
      "│    └─RReLU: 2-2                        [1, 9, 640, 480]          --\n",
      "│    └─Conv2d: 2-3                       [1, 18, 640, 480]         4,068\n",
      "│    └─MaxPool2d: 2-4                    [1, 18, 320, 240]         --\n",
      "│    └─Conv2d: 2-5                       [1, 36, 320, 240]         5,868\n",
      "├─Sequential: 1-2                        [1, 36, 5]                --\n",
      "│    └─RReLU: 2-6                        [1, 36, 320, 240]         --\n",
      "│    └─Centroids2d: 2-7                  [1, 36, 5]                36\n",
      "│    │    └─Normalize2d: 3-1             [36, 320, 240]            --\n",
      "│    │    └─Normalize2d: 3-2             [36, 320, 240]            --\n",
      "│    └─RReLU: 2-8                        [1, 36, 5]                --\n",
      "├─CentroidsCrop2d: 1-3                   [1, 36, 100, 100]         --\n",
      "├─Sequential: 1-4                        [1, 36, 94, 94]           --\n",
      "│    └─RReLU: 2-9                        [1, 36, 100, 100]         --\n",
      "│    └─Conv2d: 2-10                      [1, 36, 94, 94]           63,540\n",
      "│    └─RReLU: 2-11                       [1, 36, 94, 94]           --\n",
      "├─Sequential: 1-5                        [1, 100]                  --\n",
      "│    └─RReLU: 2-12                       [1, 36, 5]                --\n",
      "│    └─Flatten: 2-13                     [1, 180]                  --\n",
      "│    └─Linear: 2-14                      [1, 100]                  18,100\n",
      "├─Sequential: 1-6                        [1, 25]                   --\n",
      "│    └─AdaptiveMaxPool2d: 2-15           [1, 36, 15, 15]           --\n",
      "│    └─Flatten: 2-16                     [1, 8100]                 --\n",
      "│    └─Linear: 2-17                      [1, 25]                   202,525\n",
      "├─Sequential: 1-7                        [1, 72]                   --\n",
      "│    └─RReLU: 2-18                       [1, 125]                  --\n",
      "│    └─Linear: 2-19                      [1, 100]                  12,600\n",
      "│    └─RReLU: 2-20                       [1, 100]                  --\n",
      "│    └─Linear: 2-21                      [1, 72]                   7,272\n",
      "==========================================================================================\n",
      "Total params: 320,093\n",
      "Trainable params: 320,093\n",
      "Non-trainable params: 0\n",
      "Total mult-adds (G): 4.13\n",
      "==========================================================================================\n",
      "Input size (MB): 3.69\n",
      "Forward/backward pass size (MB): 91.02\n",
      "Params size (MB): 1.28\n",
      "Estimated Total Size (MB): 95.99\n",
      "==========================================================================================\n"
     ]
    }
   ],
   "source": [
    "\n",
    "if RESET or not \"listnets1\" in locals():\n",
    "    listnets1 = (\n",
    "        [PlantNet()]\n",
    "        # [OriginalNet(activation) for activation in list_activations] + [OriginalNet(random_act) for _ in range(5)]\n",
    "        # if FULL==Training.FULL\n",
    "        # else [\n",
    "        #     OriginalNet(nn.RReLU),\n",
    "        #     OriginalNet(nn.LeakyReLU),\n",
    "        #     OriginalNet(nn.CELU),\n",
    "        #     OriginalNet(nn.Mish),\n",
    "        #     OriginalNet(nn.ELU),\n",
    "        #     OriginalNet(nn.Hardtanh),\n",
    "        #     OriginalNet(nn.Tanh),\n",
    "        # ]\n",
    "        # if FULL == Training.PARTIAL\n",
    "        # else [OriginalNet(nn.RReLU)]\n",
    "    )\n",
    "\n",
    "    names1 = (\n",
    "        [\"PlantNetv1\"]\n",
    "        # [str(activation()) for activation in list_activations] + [f\"random{n}\" for n in range(5)]\n",
    "        # if FULL==Training.FULL\n",
    "        # else [\n",
    "        #     \"RReLU\",\n",
    "        #     \"LeakyReLU\",\n",
    "        #     \"CELU\",\n",
    "        #     \"Mish\",\n",
    "        #     \"ELU\",\n",
    "        #     \"Hardtanh\",\n",
    "        #     \"Tanh\",\n",
    "        # ]\n",
    "        # if FULL == Training.PARTIAL\n",
    "        # else [\"nn.LeakyReLU\"]\n",
    "    )\n",
    "\n",
    "\n",
    "\n",
    "print(\"\\n\\nvs\\n\\n\".join(str(summary(net, (1, 3, 640, 480))) for net in listnets1))"
   ]
  },
  {
   "cell_type": "code",
   "execution_count": 8,
   "metadata": {},
   "outputs": [],
   "source": [
    "if RESET or not \"results1\" in locals():\n",
    "    results1: list[dict[str, list[float]]] = [\n",
    "        {\"train_loss\": [], \"train_acc\": [], \"test_loss\": [], \"test_acc\": [], \"move_final_acc\":[]}\n",
    "        for _ in range(len(listnets1))\n",
    "    ]\n",
    "\n",
    "    optimizers1 = [torch.optim.Adam(net.parameters(), lr=.0005) for net in listnets1]\n",
    "    schedulers1 = [lrs.ExponentialLR(optimizer, .999) for optimizer in optimizers1]\n",
    "\n",
    "    loss_fn = PlantLoss()\n"
   ]
  },
  {
   "cell_type": "code",
   "execution_count": 9,
   "metadata": {},
   "outputs": [
    {
     "name": "stdout",
     "output_type": "stream",
     "text": [
      "Training model PlantNetv1...1/1\n",
      "Starting epoch 1/10\n"
     ]
    },
    {
     "name": "stderr",
     "output_type": "stream",
     "text": [
      "  0%|          | 0/167 [00:00<?, ?it/s]"
     ]
    },
    {
     "name": "stderr",
     "output_type": "stream",
     "text": [
      "100%|██████████| 167/167 [01:15<00:00,  2.22it/s]\n",
      "100%|██████████| 34/34 [00:08<00:00,  3.93it/s]\n"
     ]
    },
    {
     "name": "stdout",
     "output_type": "stream",
     "text": [
      "Epoch: 1/10 | train_loss: 0.140956 | train_acc: 0.859044 | test_loss: 0.020831 | test_acc: 0.979169 | lr: 0.000500\n",
      "Starting epoch 2/10\n"
     ]
    },
    {
     "name": "stderr",
     "output_type": "stream",
     "text": [
      "100%|██████████| 167/167 [01:14<00:00,  2.23it/s]\n",
      "100%|██████████| 34/34 [00:08<00:00,  3.95it/s]\n"
     ]
    },
    {
     "name": "stdout",
     "output_type": "stream",
     "text": [
      "Epoch: 2/10 | train_loss: 0.021778 | train_acc: 0.978222 | test_loss: 0.026836 | test_acc: 0.973164 | lr: 0.000500\n",
      "Starting epoch 3/10\n"
     ]
    },
    {
     "name": "stderr",
     "output_type": "stream",
     "text": [
      "100%|██████████| 167/167 [01:15<00:00,  2.22it/s]\n",
      "100%|██████████| 34/34 [00:08<00:00,  3.92it/s]\n"
     ]
    },
    {
     "name": "stdout",
     "output_type": "stream",
     "text": [
      "Epoch: 3/10 | train_loss: 0.021755 | train_acc: 0.978245 | test_loss: 0.023129 | test_acc: 0.976871 | lr: 0.000499\n",
      "Starting epoch 4/10\n"
     ]
    },
    {
     "name": "stderr",
     "output_type": "stream",
     "text": [
      "100%|██████████| 167/167 [01:15<00:00,  2.22it/s]\n",
      "100%|██████████| 34/34 [00:08<00:00,  3.92it/s]\n"
     ]
    },
    {
     "name": "stdout",
     "output_type": "stream",
     "text": [
      "Epoch: 4/10 | train_loss: 0.022121 | train_acc: 0.977879 | test_loss: 0.022637 | test_acc: 0.977363 | lr: 0.000499\n",
      "Starting epoch 5/10\n"
     ]
    },
    {
     "name": "stderr",
     "output_type": "stream",
     "text": [
      "100%|██████████| 167/167 [01:15<00:00,  2.22it/s]\n",
      "100%|██████████| 34/34 [00:08<00:00,  3.96it/s]\n"
     ]
    },
    {
     "name": "stdout",
     "output_type": "stream",
     "text": [
      "Epoch: 5/10 | train_loss: 0.021023 | train_acc: 0.978977 | test_loss: 0.020334 | test_acc: 0.979666 | lr: 0.000498\n",
      "Starting epoch 6/10\n"
     ]
    },
    {
     "name": "stderr",
     "output_type": "stream",
     "text": [
      "100%|██████████| 167/167 [01:15<00:00,  2.22it/s]\n",
      "100%|██████████| 34/34 [00:08<00:00,  3.95it/s]\n"
     ]
    },
    {
     "name": "stdout",
     "output_type": "stream",
     "text": [
      "Epoch: 6/10 | train_loss: 0.020798 | train_acc: 0.979202 | test_loss: 0.019942 | test_acc: 0.980058 | lr: 0.000498\n",
      "Starting epoch 7/10\n"
     ]
    },
    {
     "name": "stderr",
     "output_type": "stream",
     "text": [
      "100%|██████████| 167/167 [01:15<00:00,  2.22it/s]\n",
      "100%|██████████| 34/34 [00:08<00:00,  3.93it/s]\n"
     ]
    },
    {
     "name": "stdout",
     "output_type": "stream",
     "text": [
      "Epoch: 7/10 | train_loss: 0.022375 | train_acc: 0.977625 | test_loss: 0.018101 | test_acc: 0.981899 | lr: 0.000497\n",
      "Starting epoch 8/10\n"
     ]
    },
    {
     "name": "stderr",
     "output_type": "stream",
     "text": [
      "100%|██████████| 167/167 [01:15<00:00,  2.22it/s]\n",
      "100%|██████████| 34/34 [00:09<00:00,  3.76it/s]\n"
     ]
    },
    {
     "name": "stdout",
     "output_type": "stream",
     "text": [
      "Epoch: 8/10 | train_loss: 0.391072 | train_acc: 0.608928 | test_loss: 0.098140 | test_acc: 0.901860 | lr: 0.000497\n",
      "Starting epoch 9/10\n"
     ]
    },
    {
     "name": "stderr",
     "output_type": "stream",
     "text": [
      "100%|██████████| 167/167 [01:15<00:00,  2.22it/s]\n",
      "100%|██████████| 34/34 [00:08<00:00,  3.93it/s]\n"
     ]
    },
    {
     "name": "stdout",
     "output_type": "stream",
     "text": [
      "Epoch: 9/10 | train_loss: 0.031109 | train_acc: 0.968891 | test_loss: 0.115111 | test_acc: 0.884889 | lr: 0.000496\n",
      "Starting epoch 10/10\n"
     ]
    },
    {
     "name": "stderr",
     "output_type": "stream",
     "text": [
      "100%|██████████| 167/167 [01:15<00:00,  2.22it/s]\n",
      "100%|██████████| 34/34 [00:08<00:00,  3.93it/s]\n"
     ]
    },
    {
     "name": "stdout",
     "output_type": "stream",
     "text": [
      "Epoch: 10/10 | train_loss: 0.020239 | train_acc: 0.979761 | test_loss: 0.019037 | test_acc: 0.980963 | lr: 0.000496\n",
      "Movement evaluation:\n"
     ]
    },
    {
     "name": "stderr",
     "output_type": "stream",
     "text": [
      "100%|██████████| 34/34 [00:08<00:00,  3.98it/s]\n",
      "100%|██████████| 34/34 [00:08<00:00,  3.98it/s]\n",
      "100%|██████████| 34/34 [00:08<00:00,  4.01it/s]\n",
      "100%|██████████| 34/34 [00:08<00:00,  3.98it/s]\n",
      "100%|██████████| 34/34 [00:08<00:00,  3.99it/s]\n",
      "100%|██████████| 34/34 [00:08<00:00,  3.98it/s]\n",
      "100%|██████████| 34/34 [00:08<00:00,  4.00it/s]"
     ]
    },
    {
     "name": "stdout",
     "output_type": "stream",
     "text": [
      "[0.9809632967500126, 0.9809632967500126, 0.9809632967500126, 0.9809632967500126, 0.9809632967500126, 0.9809632967500126, 0.9809632967500126]\n",
      "total time: 898.543702840805\n"
     ]
    },
    {
     "name": "stderr",
     "output_type": "stream",
     "text": [
      "\n"
     ]
    }
   ],
   "source": [
    "assert len(names1)==len(listnets1)\n",
    "\n",
    "if RESET or not \"times1\" in locals():\n",
    "    times1 = []\n",
    "begin = len(times1)\n",
    "\n",
    "for net, optimizer, scheduler, result, name in zip(\n",
    "    listnets1, optimizers1, schedulers1, results1, names1\n",
    "):\n",
    "    # print(f\"Training model {name}...{(len(times1)+1)%len(listnets1)}/{len(listnets1)}\")\n",
    "    print(f\"Training model {name}...{len(times1)-begin+1}/{len(listnets1)}\")\n",
    "\n",
    "    # torch.cuda.empty_cache()\n",
    "    time_taken = time.time()\n",
    "    result = train(\n",
    "        net,\n",
    "        dl_train,\n",
    "        dl_test,\n",
    "        loss_fn,\n",
    "        optimizer,\n",
    "        scheduler,\n",
    "        result,\n",
    "        device=\"cuda\",\n",
    "        epochs=BASE_EPOCHS,\n",
    "    )\n",
    "    time_taken = time.time() - time_taken\n",
    "    print(f\"total time: {time_taken}\")\n",
    "    times1.append(time_taken)"
   ]
  },
  {
   "cell_type": "code",
   "execution_count": 10,
   "metadata": {},
   "outputs": [
    {
     "name": "stdout",
     "output_type": "stream",
     "text": [
      "[898.543702840805]\n",
      "[{'train_loss': [0.1409555658820771, 0.021778264701991023, 0.021755040277487148, 0.022120529718830915, 0.021022955892596416, 0.020797708933381086, 0.022374559375094975, 0.39107227160645547, 0.03110896142389246, 0.020239422962203355], 'train_acc': [0.8590444329969897, 0.9782217351976269, 0.9782449599511609, 0.9778794692661947, 0.9789770448993066, 0.9792022897811707, 0.9776254399807868, 0.6089277299578318, 0.9688910374384441, 0.9797605790064007], 'test_loss': [0.020831427701255855, 0.026836015968857443, 0.023129154161057052, 0.022637159440337735, 0.020333662355209097, 0.01994219930459033, 0.018100773477379012, 0.09814015041817636, 0.11511147197555094, 0.019036705276983625], 'test_acc': [0.9791685710935032, 0.9731639816480524, 0.9768708488520454, 0.9773628431207994, 0.9796663364943337, 0.9800578040235183, 0.9818992264130536, 0.9018598549506244, 0.8848885262713713, 0.9809632967500126], 'move_final_acc': [0.9809632967500126, 0.9809632967500126, 0.9809632967500126, 0.9809632967500126, 0.9809632967500126, 0.9809632967500126, 0.9809632967500126], 'cat': ['dx', 'dy', 'dz', 'rx', 'ry', 'rz', 'overall']}]\n",
      "(name, time, acclastmean, accmax)\n",
      "Ordered by mean times:\n",
      "[('PlantNetv1', [898.543702840805], 0.0, 0.9818992264130536)]\n",
      "max delta: 0.0 %\n",
      "\n",
      "Ordered by max accuracy:\n",
      "[('PlantNetv1', [898.543702840805], 0.0, 0.9818992264130536)]\n",
      "max test accuracy : 0.9818992264130536\n"
     ]
    },
    {
     "data": {
      "image/png": "[encoded data removed]",
      "text/plain": [
       "<Figure size 1500x700 with 4 Axes>"
      ]
     },
     "metadata": {},
     "output_type": "display_data"
    }
   ],
   "source": [
    "from train import plot_results\n",
    "print(times1)\n",
    "print(results1)\n",
    "\n",
    "plot_results(*results1, names=names1, times=times1)\n",
    "# resultssplit = [results1[5*i:5*(i+1)] for i in range(int(len(results1)/5+0.99))]\n",
    "# namessplit = [names1[5*i:5*(i+1)] for i in range(int(len(names1)/5+0.99))]\n",
    "# timessplit = [times1[5*i:5*(i+1)] for i in range(int(len(times1)/5+0.99))]\n",
    "\n",
    "# for results_, names_, times_ in zip(resultssplit, namessplit, timessplit):\n",
    "#     plot_results(*results_, names=names_, times=times_)\n",
    "# pass"
   ]
  },
  {
   "cell_type": "code",
   "execution_count": 11,
   "metadata": {},
   "outputs": [
    {
     "name": "stdout",
     "output_type": "stream",
     "text": [
      "/home/ubuntu/Documents/polybot.riviera/polybot/riviera/ai\n",
      "ok\n"
     ]
    }
   ],
   "source": [
    "print(os.getcwd())\n",
    "for net, name in zip(listnets1, names1):\n",
    "    torch.save(net, f\"\"\"saves_models/{name.replace(\" \", \"\").replace(\"'\", \"\").replace(\"<\", \"\").replace(\">\", \"\")}.{int(time.time())}.pth\"\"\")\n",
    "print(\"ok\")"
   ]
  }
 ],
 "metadata": {
  "kernelspec": {
   "display_name": "Python 3",
   "language": "python",
   "name": "python3"
  },
  "language_info": {
   "codemirror_mode": {
    "name": "ipython",
    "version": 3
   },
   "file_extension": ".py",
   "mimetype": "text/x-python",
   "name": "python",
   "nbconvert_exporter": "python",
   "pygments_lexer": "ipython3",
   "version": "3.11.6"
  }
 },
 "nbformat": 4,
 "nbformat_minor": 2
}
